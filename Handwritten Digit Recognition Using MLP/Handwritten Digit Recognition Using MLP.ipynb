{
 "cells": [
  {
   "cell_type": "markdown",
   "metadata": {},
   "source": [
    "# Problem Statement\n",
    "Use MNIST dataset to create a classifier for all the 10 digits. First implement the classifier by\n",
    "squeezing the image into a vector and then using a MLP. Now, try the same task using a\n",
    "different machine learning classifier such as an SVM to check the gain in performance by\n",
    "using perceptrons as compared to conventional machine learning techniques"
   ]
  },
  {
   "cell_type": "markdown",
   "metadata": {},
   "source": [
    "Digit recognition system is the working of a machine to train itself for recognizing the digits\n",
    "from different sources like emails, bank cheque, papers, images, etc. and in different realworld scenarios for online handwriting recognition on computer tablets or system.\n",
    "Developing such a system includes a machine to understand and classify the images of\n",
    "handwritten digits as 10 digits (0–9). Handwritten digits from the MNIST database has\n",
    "been one of the most famous databases among the machine learning community for many\n",
    "recent decades."
   ]
  },
  {
   "cell_type": "code",
   "execution_count": 1,
   "metadata": {},
   "outputs": [],
   "source": [
    "# Importing Libarires \n",
    "import matplotlib.pyplot as plt\n",
    "import pandas as pd\n",
    "import numpy as np\n",
    "import seaborn as sns\n",
    "import cv2\n",
    "from sklearn.datasets import load_digits\n",
    "from sklearn import preprocessing \n",
    "from collections import Counter \n",
    "from skimage.feature import hog\n",
    "import warnings\n",
    "warnings.filterwarnings('ignore')"
   ]
  },
  {
   "cell_type": "code",
   "execution_count": 2,
   "metadata": {
    "scrolled": false
   },
   "outputs": [
    {
     "data": {
      "image/png": "[encoded data removed]",
      "text/plain": [
       "<Figure size 720x216 with 4 Axes>"
      ]
     },
     "metadata": {
      "needs_background": "light"
     },
     "output_type": "display_data"
    }
   ],
   "source": [
    "digits =load_digits()\n",
    "\n",
    "_, axes = plt.subplots(nrows=1, ncols=4, figsize=(10, 3))\n",
    "for ax, image, label in zip(axes, digits.images, digits.target):\n",
    "    ax.set_axis_off()\n",
    "    ax.imshow(image, cmap=plt.cm.gray_r, interpolation='nearest')\n",
    "    ax.set_title('Training: %i' % label)"
   ]
  },
  {
   "cell_type": "markdown",
   "metadata": {},
   "source": [
    "To apply a classifier on this data, we need to flatten the images, turning each 2-D array of grayscale values from shape (8, 8) into shape (64,). Subsequently, the entire dataset will be of shape (n_samples, n_features), where n_samples is the number of images and n_features is the total number of pixels in each image.\n",
    "\n",
    "We can then split the data into train and test subsets and fit a classifier on the train samples. The fitted classifier can subsequently be used to predict the value of the digit for the samples in the test subset."
   ]
  },
  {
   "cell_type": "code",
   "execution_count": 3,
   "metadata": {},
   "outputs": [],
   "source": [
    "n_samples = len(digits.images)"
   ]
  },
  {
   "cell_type": "code",
   "execution_count": 4,
   "metadata": {},
   "outputs": [],
   "source": [
    "data = digits.images.reshape((n_samples,-1))"
   ]
  },
  {
   "cell_type": "code",
   "execution_count": 5,
   "metadata": {
    "scrolled": true
   },
   "outputs": [],
   "source": [
    "from sklearn.model_selection import train_test_split\n",
    "from sklearn.neural_network import MLPClassifier"
   ]
  },
  {
   "cell_type": "code",
   "execution_count": 6,
   "metadata": {},
   "outputs": [],
   "source": [
    "# Split data into 50% train and 50% test subsets\n",
    "X_train, X_test, y_train, y_test = train_test_split(\n",
    "    data, digits.target, test_size=0.5, shuffle=False)"
   ]
  },
  {
   "cell_type": "code",
   "execution_count": 7,
   "metadata": {},
   "outputs": [
    {
     "data": {
      "text/plain": [
       "MLPClassifier(alpha=0.3, hidden_layer_sizes=(200, 200))"
      ]
     },
     "execution_count": 7,
     "metadata": {},
     "output_type": "execute_result"
    }
   ],
   "source": [
    "Model = MLPClassifier(activation='relu', hidden_layer_sizes=(200, 200), alpha = 0.3)\n",
    "Model.fit(X_train, y_train)"
   ]
  },
  {
   "cell_type": "code",
   "execution_count": 8,
   "metadata": {},
   "outputs": [
    {
     "name": "stdout",
     "output_type": "stream",
     "text": [
      "Training Score :: 1.0\n",
      "\n",
      "Testing Score :: 0.9477196885428254\n",
      "\n"
     ]
    }
   ],
   "source": [
    "print(\"Training Score :: {}\\n\".format(Model.score(X_train, y_train)))\n",
    "print(\"Testing Score :: {}\\n\".format(Model.score(X_test, y_test)))"
   ]
  },
  {
   "cell_type": "code",
   "execution_count": 9,
   "metadata": {},
   "outputs": [],
   "source": [
    "predicted = Model.predict(X_test)"
   ]
  },
  {
   "cell_type": "code",
   "execution_count": 10,
   "metadata": {},
   "outputs": [],
   "source": [
    "from sklearn.metrics import confusion_matrix,classification_report,f1_score,plot_confusion_matrix"
   ]
  },
  {
   "cell_type": "code",
   "execution_count": 11,
   "metadata": {
    "scrolled": true
   },
   "outputs": [
    {
     "data": {
      "text/plain": [
       "array([[86,  0,  0,  0,  1,  0,  1,  0,  0,  0],\n",
       "       [ 0, 83,  0,  1,  0,  1,  0,  0,  0,  6],\n",
       "       [ 0,  0, 85,  1,  0,  0,  0,  0,  0,  0],\n",
       "       [ 0,  0,  0, 78,  0,  4,  0,  4,  5,  0],\n",
       "       [ 1,  0,  0,  0, 86,  0,  1,  0,  0,  4],\n",
       "       [ 0,  0,  0,  0,  0, 87,  1,  0,  0,  3],\n",
       "       [ 0,  1,  0,  0,  0,  0, 90,  0,  0,  0],\n",
       "       [ 0,  0,  0,  0,  0,  1,  0, 87,  1,  0],\n",
       "       [ 0,  4,  0,  0,  0,  2,  1,  0, 81,  0],\n",
       "       [ 0,  0,  0,  1,  0,  2,  0,  0,  0, 89]], dtype=int64)"
      ]
     },
     "execution_count": 11,
     "metadata": {},
     "output_type": "execute_result"
    }
   ],
   "source": [
    "confusion_matrix(y_test,predicted)"
   ]
  },
  {
   "cell_type": "code",
   "execution_count": 12,
   "metadata": {
    "scrolled": true
   },
   "outputs": [
    {
     "name": "stdout",
     "output_type": "stream",
     "text": [
      "              precision    recall  f1-score   support\n",
      "\n",
      "           0       0.99      0.98      0.98        88\n",
      "           1       0.94      0.91      0.93        91\n",
      "           2       1.00      0.99      0.99        86\n",
      "           3       0.96      0.86      0.91        91\n",
      "           4       0.99      0.93      0.96        92\n",
      "           5       0.90      0.96      0.93        91\n",
      "           6       0.96      0.99      0.97        91\n",
      "           7       0.96      0.98      0.97        89\n",
      "           8       0.93      0.92      0.93        88\n",
      "           9       0.87      0.97      0.92        92\n",
      "\n",
      "    accuracy                           0.95       899\n",
      "   macro avg       0.95      0.95      0.95       899\n",
      "weighted avg       0.95      0.95      0.95       899\n",
      "\n"
     ]
    }
   ],
   "source": [
    "print(classification_report(y_test,predicted))"
   ]
  },
  {
   "cell_type": "code",
   "execution_count": 13,
   "metadata": {
    "scrolled": true
   },
   "outputs": [
    {
     "data": {
      "image/png": "[encoded data removed]",
      "text/plain": [
       "<Figure size 720x216 with 4 Axes>"
      ]
     },
     "metadata": {
      "needs_background": "light"
     },
     "output_type": "display_data"
    }
   ],
   "source": [
    "_, axes = plt.subplots(nrows=1, ncols=4, figsize=(10, 3))\n",
    "for ax, image, prediction in zip(axes, X_test, predicted):\n",
    "    ax.set_axis_off()\n",
    "    image = image.reshape(8, 8)\n",
    "    ax.imshow(image, cmap=plt.cm.gray_r, interpolation='nearest')\n",
    "    ax.set_title(f'Prediction: {prediction}')"
   ]
  },
  {
   "cell_type": "code",
   "execution_count": 14,
   "metadata": {
    "scrolled": true
   },
   "outputs": [
    {
     "name": "stdout",
     "output_type": "stream",
     "text": [
      "Confusion matrix:\n",
      "[[86  0  0  0  1  0  1  0  0  0]\n",
      " [ 0 83  0  1  0  1  0  0  0  6]\n",
      " [ 0  0 85  1  0  0  0  0  0  0]\n",
      " [ 0  0  0 78  0  4  0  4  5  0]\n",
      " [ 1  0  0  0 86  0  1  0  0  4]\n",
      " [ 0  0  0  0  0 87  1  0  0  3]\n",
      " [ 0  1  0  0  0  0 90  0  0  0]\n",
      " [ 0  0  0  0  0  1  0 87  1  0]\n",
      " [ 0  4  0  0  0  2  1  0 81  0]\n",
      " [ 0  0  0  1  0  2  0  0  0 89]]\n"
     ]
    },
    {
     "data": {
      "image/png": "[encoded data removed]",
      "text/plain": [
       "<Figure size 432x288 with 2 Axes>"
      ]
     },
     "metadata": {
      "needs_background": "light"
     },
     "output_type": "display_data"
    }
   ],
   "source": [
    "disp = plot_confusion_matrix(Model, X_test, y_test)\n",
    "disp.figure_.suptitle(\"Confusion Matrix\")\n",
    "print(f\"Confusion matrix:\\n{disp.confusion_matrix}\")\n",
    "\n",
    "plt.show()"
   ]
  },
  {
   "cell_type": "code",
   "execution_count": 15,
   "metadata": {},
   "outputs": [],
   "source": [
    "from sklearn.svm import SVC"
   ]
  },
  {
   "cell_type": "code",
   "execution_count": 16,
   "metadata": {},
   "outputs": [],
   "source": [
    "clf = SVC(gamma=0.001)"
   ]
  },
  {
   "cell_type": "code",
   "execution_count": 17,
   "metadata": {},
   "outputs": [],
   "source": [
    "clf.fit(X_train,y_train)\n",
    "pred = clf.predict(X_test)"
   ]
  },
  {
   "cell_type": "code",
   "execution_count": 20,
   "metadata": {},
   "outputs": [
    {
     "name": "stdout",
     "output_type": "stream",
     "text": [
      "              precision    recall  f1-score   support\n",
      "\n",
      "           0       1.00      0.99      0.99        88\n",
      "           1       0.99      0.97      0.98        91\n",
      "           2       0.99      0.99      0.99        86\n",
      "           3       0.98      0.87      0.92        91\n",
      "           4       0.99      0.96      0.97        92\n",
      "           5       0.95      0.97      0.96        91\n",
      "           6       0.99      0.99      0.99        91\n",
      "           7       0.96      0.99      0.97        89\n",
      "           8       0.94      1.00      0.97        88\n",
      "           9       0.93      0.98      0.95        92\n",
      "\n",
      "    accuracy                           0.97       899\n",
      "   macro avg       0.97      0.97      0.97       899\n",
      "weighted avg       0.97      0.97      0.97       899\n",
      "\n"
     ]
    }
   ],
   "source": [
    "print(classification_report(y_test,pred))"
   ]
  },
  {
   "cell_type": "code",
   "execution_count": 23,
   "metadata": {
    "scrolled": false
   },
   "outputs": [
    {
     "data": {
      "image/png": "[encoded data removed]",
      "text/plain": [
       "<Figure size 720x216 with 4 Axes>"
      ]
     },
     "metadata": {
      "needs_background": "light"
     },
     "output_type": "display_data"
    }
   ],
   "source": [
    "_, axes = plt.subplots(nrows=1, ncols=4, figsize=(10, 3))\n",
    "for ax, image, prediction in zip(axes, X_test, pred):\n",
    "    ax.set_axis_off()\n",
    "    image = image.reshape(8, 8)\n",
    "    ax.imshow(image, cmap=plt.cm.gray_r, interpolation='nearest')\n",
    "    ax.set_title(f'Prediction: {prediction}')"
   ]
  },
  {
   "cell_type": "code",
   "execution_count": 24,
   "metadata": {},
   "outputs": [],
   "source": [
    "from sklearn.tree import DecisionTreeClassifier"
   ]
  },
  {
   "cell_type": "code",
   "execution_count": 25,
   "metadata": {},
   "outputs": [],
   "source": [
    "clf2 = DecisionTreeClassifier()"
   ]
  },
  {
   "cell_type": "code",
   "execution_count": 26,
   "metadata": {},
   "outputs": [],
   "source": [
    "clf2.fit(X_train,y_train)\n",
    "pred2 = clf2.predict(X_test)"
   ]
  },
  {
   "cell_type": "code",
   "execution_count": 31,
   "metadata": {},
   "outputs": [
    {
     "name": "stdout",
     "output_type": "stream",
     "text": [
      "              precision    recall  f1-score   support\n",
      "\n",
      "           0       0.96      0.93      0.95        88\n",
      "           1       0.75      0.58      0.65        91\n",
      "           2       0.87      0.70      0.77        86\n",
      "           3       0.67      0.76      0.71        91\n",
      "           4       0.83      0.82      0.82        92\n",
      "           5       0.59      0.75      0.66        91\n",
      "           6       0.85      0.93      0.89        91\n",
      "           7       0.89      0.79      0.83        89\n",
      "           8       0.63      0.65      0.64        88\n",
      "           9       0.67      0.71      0.69        92\n",
      "\n",
      "    accuracy                           0.76       899\n",
      "   macro avg       0.77      0.76      0.76       899\n",
      "weighted avg       0.77      0.76      0.76       899\n",
      "\n"
     ]
    }
   ],
   "source": [
    "print(classification_report(y_test,pred2))"
   ]
  },
  {
   "cell_type": "code",
   "execution_count": 28,
   "metadata": {},
   "outputs": [],
   "source": [
    "from sklearn.ensemble import RandomForestClassifier"
   ]
  },
  {
   "cell_type": "code",
   "execution_count": 29,
   "metadata": {
    "scrolled": true
   },
   "outputs": [
    {
     "data": {
      "text/plain": [
       "RandomForestClassifier()"
      ]
     },
     "execution_count": 29,
     "metadata": {},
     "output_type": "execute_result"
    }
   ],
   "source": [
    "clf3 = RandomForestClassifier()\n",
    "clf3.fit(X_train,y_train)"
   ]
  },
  {
   "cell_type": "code",
   "execution_count": 30,
   "metadata": {},
   "outputs": [],
   "source": [
    "pred3 = clf3.predict(X_test)"
   ]
  },
  {
   "cell_type": "code",
   "execution_count": 32,
   "metadata": {
    "scrolled": true
   },
   "outputs": [
    {
     "name": "stdout",
     "output_type": "stream",
     "text": [
      "              precision    recall  f1-score   support\n",
      "\n",
      "           0       0.98      0.99      0.98        88\n",
      "           1       0.96      0.87      0.91        91\n",
      "           2       1.00      0.91      0.95        86\n",
      "           3       0.89      0.88      0.88        91\n",
      "           4       0.98      0.91      0.94        92\n",
      "           5       0.90      0.92      0.91        91\n",
      "           6       0.97      0.99      0.98        91\n",
      "           7       0.94      0.99      0.96        89\n",
      "           8       0.91      0.91      0.91        88\n",
      "           9       0.80      0.92      0.86        92\n",
      "\n",
      "    accuracy                           0.93       899\n",
      "   macro avg       0.93      0.93      0.93       899\n",
      "weighted avg       0.93      0.93      0.93       899\n",
      "\n"
     ]
    }
   ],
   "source": [
    "print(classification_report(y_test,pred3))"
   ]
  },
  {
   "cell_type": "code",
   "execution_count": 33,
   "metadata": {},
   "outputs": [],
   "source": [
    "from sklearn.linear_model import LogisticRegression"
   ]
  },
  {
   "cell_type": "code",
   "execution_count": 34,
   "metadata": {},
   "outputs": [],
   "source": [
    "clf4 = LogisticRegression()\n",
    "clf4.fit(X_train,y_train)\n",
    "pred4 = clf4.predict(X_test)"
   ]
  },
  {
   "cell_type": "code",
   "execution_count": 35,
   "metadata": {
    "scrolled": true
   },
   "outputs": [
    {
     "name": "stdout",
     "output_type": "stream",
     "text": [
      "              precision    recall  f1-score   support\n",
      "\n",
      "           0       0.99      0.95      0.97        88\n",
      "           1       0.94      0.90      0.92        91\n",
      "           2       0.99      0.98      0.98        86\n",
      "           3       0.94      0.84      0.88        91\n",
      "           4       0.98      0.91      0.94        92\n",
      "           5       0.88      0.95      0.91        91\n",
      "           6       0.91      0.99      0.95        91\n",
      "           7       0.98      0.96      0.97        89\n",
      "           8       0.89      0.90      0.89        88\n",
      "           9       0.84      0.93      0.89        92\n",
      "\n",
      "    accuracy                           0.93       899\n",
      "   macro avg       0.93      0.93      0.93       899\n",
      "weighted avg       0.93      0.93      0.93       899\n",
      "\n"
     ]
    }
   ],
   "source": [
    "print(classification_report(y_test,pred4))"
   ]
  }
 ],
 "metadata": {
  "kernelspec": {
   "display_name": "Python 3",
   "language": "python",
   "name": "python3"
  },
  "language_info": {
   "codemirror_mode": {
    "name": "ipython",
    "version": 3
   },
   "file_extension": ".py",
   "mimetype": "text/x-python",
   "name": "python",
   "nbconvert_exporter": "python",
   "pygments_lexer": "ipython3",
   "version": "3.7.4"
  }
 },
 "nbformat": 4,
 "nbformat_minor": 2
}
