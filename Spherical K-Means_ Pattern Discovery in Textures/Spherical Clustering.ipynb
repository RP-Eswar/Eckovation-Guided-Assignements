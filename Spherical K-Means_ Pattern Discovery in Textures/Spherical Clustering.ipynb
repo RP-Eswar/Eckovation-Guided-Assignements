{
 "cells": [
  {
   "cell_type": "markdown",
   "metadata": {},
   "source": [
    "# Problem Statement:\n",
    "Generate a dummy dataset using Scikit-Learn having high dimensionality (number of\n",
    "features >10) and total 4 classes. For this dataset, first implement K-Means clustering and\n",
    "then use the clusters for classification purpose. Now using the same dataset, implement\n",
    "spherical clustering and then check accuracy for classification. Notice the change in accuracy.\n",
    "You may also plot the obtained clusters from both the methods using t-SNE plots or by\n",
    "projecting data into two dimensions using PCA."
   ]
  },
  {
   "cell_type": "markdown",
   "metadata": {},
   "source": [
    "The classical k-means method of clustering minimizes the sum of squared distances between\n",
    "cluster centres and cluster members. The intuition is that the radial distance from the\n",
    "Cluster- Centre should be similar for all elements of that cluster. The spherical k-means\n",
    "algorithm, however, is equivalent to the k-means algorithm with cosine similarity, a popular\n",
    "method for clustering high-dimensional data. The idea is to set the centre of each cluster such\n",
    "that it makes the angle between components both uniform and minimal."
   ]
  },
  {
   "cell_type": "markdown",
   "metadata": {},
   "source": [
    "# Importing Neccessay Libaray"
   ]
  },
  {
   "cell_type": "code",
   "execution_count": 78,
   "metadata": {},
   "outputs": [],
   "source": [
    "import pandas as pd\n",
    "import numpy as np\n",
    "import matplotlib.pyplot as plt\n",
    "from sklearn.datasets import make_blobs\n",
    "from sklearn.cluster import KMeans\n",
    "from sklearn.metrics import classification_report,confusion_matrix,accuracy_score,f1_score,plot_confusion_matrix"
   ]
  },
  {
   "cell_type": "code",
   "execution_count": 17,
   "metadata": {},
   "outputs": [],
   "source": [
    " X, y = make_blobs(n_samples=500, centers=4, n_features=11,random_state=0,cluster_std=0.60)"
   ]
  },
  {
   "cell_type": "code",
   "execution_count": 18,
   "metadata": {},
   "outputs": [
    {
     "data": {
      "text/plain": [
       "(500, 11)"
      ]
     },
     "execution_count": 18,
     "metadata": {},
     "output_type": "execute_result"
    }
   ],
   "source": [
    "X.shape"
   ]
  },
  {
   "cell_type": "code",
   "execution_count": 19,
   "metadata": {
    "scrolled": true
   },
   "outputs": [
    {
     "data": {
      "text/plain": [
       "array([0, 0, 2, 0, 1, 1, 3, 2, 1, 1, 2, 1, 0, 2, 0, 2, 2, 3, 0, 0, 3, 1,\n",
       "       3, 1, 0, 2, 1, 2, 3, 1, 1, 1, 2, 1, 0, 3, 1, 2, 0, 3, 1, 0, 0, 0,\n",
       "       1, 1, 2, 0, 1, 3, 0, 1, 0, 2, 0, 1, 1, 3, 0, 0, 3, 1, 3, 2, 2, 0,\n",
       "       2, 0, 2, 3, 3, 3, 3, 1, 3, 2, 1, 3, 3, 1, 2, 2, 3, 3, 1, 3, 3, 2,\n",
       "       3, 0, 3, 2, 1, 1, 3, 1, 1, 2, 2, 0, 2, 2, 3, 2, 1, 0, 1, 3, 3, 3,\n",
       "       3, 1, 1, 0, 0, 1, 0, 0, 0, 3, 1, 3, 0, 3, 1, 2, 1, 1, 3, 0, 0, 2,\n",
       "       1, 1, 2, 1, 0, 0, 3, 1, 3, 1, 3, 1, 2, 2, 1, 2, 3, 1, 1, 1, 2, 0,\n",
       "       0, 1, 2, 2, 0, 2, 3, 2, 1, 3, 3, 0, 3, 1, 2, 2, 3, 0, 0, 0, 3, 3,\n",
       "       1, 0, 3, 3, 2, 0, 2, 3, 0, 0, 2, 3, 2, 0, 3, 3, 1, 2, 3, 1, 2, 2,\n",
       "       3, 2, 0, 1, 2, 1, 3, 1, 3, 3, 2, 0, 3, 0, 1, 1, 2, 3, 3, 3, 3, 3,\n",
       "       2, 2, 3, 2, 1, 0, 2, 1, 0, 0, 1, 3, 2, 0, 3, 3, 3, 2, 2, 1, 2, 3,\n",
       "       0, 2, 2, 0, 3, 1, 3, 3, 1, 1, 1, 2, 1, 1, 2, 1, 2, 0, 0, 1, 0, 1,\n",
       "       0, 2, 2, 1, 2, 0, 3, 0, 0, 1, 1, 0, 0, 1, 1, 1, 1, 1, 1, 3, 1, 3,\n",
       "       3, 3, 3, 0, 3, 3, 1, 2, 0, 0, 2, 1, 3, 3, 0, 1, 1, 2, 3, 1, 2, 2,\n",
       "       2, 1, 1, 0, 1, 3, 3, 2, 2, 1, 3, 2, 3, 0, 0, 1, 0, 3, 3, 0, 2, 1,\n",
       "       2, 1, 1, 1, 2, 3, 1, 2, 0, 1, 2, 1, 1, 3, 0, 2, 1, 1, 1, 0, 0, 3,\n",
       "       1, 2, 0, 2, 1, 3, 3, 0, 2, 1, 0, 2, 0, 1, 1, 1, 3, 1, 2, 2, 0, 0,\n",
       "       0, 0, 1, 0, 3, 3, 1, 0, 3, 0, 3, 3, 2, 2, 0, 0, 0, 0, 2, 2, 0, 0,\n",
       "       3, 1, 2, 2, 2, 2, 2, 2, 0, 0, 3, 3, 3, 2, 2, 2, 1, 0, 0, 3, 2, 3,\n",
       "       0, 3, 1, 1, 1, 2, 2, 3, 3, 2, 0, 2, 2, 0, 3, 3, 0, 0, 3, 0, 3, 2,\n",
       "       2, 0, 0, 0, 0, 1, 2, 2, 1, 1, 1, 0, 2, 2, 0, 2, 2, 1, 2, 2, 0, 2,\n",
       "       3, 3, 2, 2, 3, 0, 0, 3, 0, 3, 1, 2, 3, 3, 0, 3, 2, 3, 0, 3, 3, 1,\n",
       "       0, 0, 2, 0, 2, 0, 0, 0, 0, 3, 2, 1, 3, 0, 2, 0])"
      ]
     },
     "execution_count": 19,
     "metadata": {},
     "output_type": "execute_result"
    }
   ],
   "source": [
    "y"
   ]
  },
  {
   "cell_type": "code",
   "execution_count": 79,
   "metadata": {},
   "outputs": [],
   "source": [
    "kmeans = KMeans(n_clusters=3,init = 'k-means++',   max_iter = 100, n_init = 10, random_state = 0) #Applying Kmeans classifier"
   ]
  },
  {
   "cell_type": "code",
   "execution_count": 80,
   "metadata": {
    "scrolled": false
   },
   "outputs": [
    {
     "name": "stdout",
     "output_type": "stream",
     "text": [
      "[[ 5.76718938 -2.25537218  9.24154166  7.87332723 -1.23236937  2.92040015\n",
      "  -1.54746198  0.85274792  1.93503836  4.30601448  0.96893192]\n",
      " [-4.82462932  4.64439556 -3.01614056 -2.24608965  2.05726364  8.83000885\n",
      "  -2.42097581  2.49478261 -2.56162859 -1.96761149  0.27854908]\n",
      " [ 5.96796625  9.58289328  7.35728625  5.41936149  6.72758859 -9.59589856\n",
      "  -8.35790977 -8.56350873  8.50468676  1.34686645  0.59416053]]\n"
     ]
    },
    {
     "data": {
      "text/plain": [
       "<matplotlib.legend.Legend at 0x2678bf202c8>"
      ]
     },
     "execution_count": 80,
     "metadata": {},
     "output_type": "execute_result"
    },
    {
     "data": {
      "image/png": "[encoded data removed]",
      "text/plain": [
       "<Figure size 432x288 with 1 Axes>"
      ]
     },
     "metadata": {
      "needs_background": "light"
     },
     "output_type": "display_data"
    }
   ],
   "source": [
    "\n",
    "#Predicting the cluster for our data\n",
    "y_kmeans = kmeans.fit_predict(X)\n",
    "print(kmeans.cluster_centers_)\n",
    "#Visualising the clusters\n",
    "X = np.array(X)\n",
    "plt.scatter(X[y_kmeans == 0, 0], X[y_kmeans == 0, 1], s = 100, c = 'red', label = 'Iris-setosa')\n",
    "plt.scatter(X[y_kmeans == 1, 0], X[y_kmeans == 1, 1], s = 100, c = 'blue', label = 'Iris-versicolour')\n",
    "plt.scatter(X[y_kmeans == 2, 0], X[y_kmeans == 2, 1], s = 100, c = 'green', label = 'Iris-virginica')\n",
    "\n",
    "#Plotting the centroids of the clusters\n",
    "plt.scatter(kmeans.cluster_centers_[:, 0], kmeans.cluster_centers_[:,1], s = 100, c = 'yellow', label = 'Centroids')\n",
    "\n",
    "plt.legend()"
   ]
  },
  {
   "cell_type": "code",
   "execution_count": 81,
   "metadata": {},
   "outputs": [
    {
     "name": "stdout",
     "output_type": "stream",
     "text": [
      "              precision    recall  f1-score   support\n",
      "\n",
      "           0       1.00      1.00      1.00       125\n",
      "           1       0.00      0.00      0.00       125\n",
      "           2       0.00      0.00      0.00       125\n",
      "           3       0.00      0.00      0.00       125\n",
      "\n",
      "    accuracy                           0.25       500\n",
      "   macro avg       0.25      0.25      0.25       500\n",
      "weighted avg       0.25      0.25      0.25       500\n",
      "\n"
     ]
    }
   ],
   "source": [
    " print(classification_report(y,y_kmeans))"
   ]
  },
  {
   "cell_type": "code",
   "execution_count": 42,
   "metadata": {},
   "outputs": [],
   "source": [
    "K = 4"
   ]
  },
  {
   "cell_type": "code",
   "execution_count": 43,
   "metadata": {},
   "outputs": [],
   "source": [
    "def similarity(vec1, vec2):\n",
    "    vec1 = np.ravel(vec1)\n",
    "    vec1 = vec1/np.linalg.norm(vec1)\n",
    "    \n",
    "    vec2 = np.ravel(vec2)\n",
    "    vec2 = vec2/np.linalg.norm(vec2)\n",
    "    \n",
    "    angle = np.dot(vec1, vec2)\n",
    "    return angle"
   ]
  },
  {
   "cell_type": "code",
   "execution_count": 44,
   "metadata": {},
   "outputs": [],
   "source": [
    "def init_centroids(K, data_arr, label_arr):\n",
    "    mean_cent = []\n",
    "    size_cent = []\n",
    "    cluster_cent = [[] for i in range(K)]\n",
    "    \n",
    "    for i in range(len(data_arr)):\n",
    "        for k in range(K):\n",
    "            if label_arr[i]==k:\n",
    "                data_pt = np.ravel(data_arr[i,:])/np.linalg.norm(np.ravel(data_arr[i,:]))\n",
    "                cluster_cent[k].append(data_pt)\n",
    "    for k in range(K):\n",
    "        cluster_mat = np.matrix(cluster_cent[k])\n",
    "        pointNum = cluster_mat.shape[0]\n",
    "        mean_k = np.mean(cluster_mat, axis=0)\n",
    "        mean_k = np.ravel(mean_k)/np.linalg.norm(np.ravel(mean_k))\n",
    "        mean_cent.append(mean_k)\n",
    "        size_cent.append(pointNum)\n",
    "    return mean_cent, size_cent"
   ]
  },
  {
   "cell_type": "code",
   "execution_count": 45,
   "metadata": {},
   "outputs": [],
   "source": [
    "def label_update(prev_mean, data_arr, label_arr):\n",
    "    for i in range(len(data_arr)):\n",
    "        sim_pt = []\n",
    "        for k in range(K):\n",
    "            sim = similarity(data_arr[i], prev_mean[k])\n",
    "            sim_pt.append(sim)\n",
    "        sim_arr = np.array(sim_pt)\n",
    "        new_label = np.argmax(sim_arr)\n",
    "        label_arr[i] = new_label\n",
    "    return label_arr"
   ]
  },
  {
   "cell_type": "code",
   "execution_count": 47,
   "metadata": {},
   "outputs": [],
   "source": [
    "def update_centroids(K, prev_mean, prev_size, data_arr, label_arr):\n",
    "    cluster_pts = [[] for k in range(K)]\n",
    "    \n",
    "    for i in range(data_arr.shape[0]):\n",
    "        for k in range(K):\n",
    "            if label_arr[i]==k:\n",
    "                data_pt = np.ravel(data_arr[i,:])/np.linalg.norm(np.ravel(data_arr[i,:]))\n",
    "                cluster_pts[k].append(data_pt)\n",
    "    for k in range(K):\n",
    "        print(len(cluster_pts[k]))\n",
    "        if len(cluster_pts[k])!=0:\n",
    "            cluster_mat = np.matrix(cluster_pts[k])\n",
    "            pointNum = cluster_mat.shape[0]\n",
    "            mean_k = np.mean(cluster_mat, axis=0)\n",
    "            mean_k = np.ravel(mean_k)/np.linalg.norm(np.ravel(mean_k))\n",
    "            prev_mean[k] = mean_k\n",
    "            prev_size[k] = pointNum\n",
    "        new_mean = prev_mean\n",
    "        new_size = prev_size\n",
    "    return new_mean, new_size"
   ]
  },
  {
   "cell_type": "code",
   "execution_count": 61,
   "metadata": {},
   "outputs": [],
   "source": [
    "def SphericalKMeans(data_arr, label_arr, maxIter):\n",
    "    prev_mean, prev_size = init_centroids(k, data_arr, label_arr)\n",
    "    print(prev_size)\n",
    "    for iter in range(maxIter):\n",
    "        new_label = label_update(prev_mean, data_arr, label_arr)\n",
    "        new_mean, new_size = update_centroids(k, prev_mean, prev_size, data_arr, label_arr)\n",
    "        label_arr = new_label\n",
    "        prev_mean = new_mean\n",
    "        prev_size = new_size\n",
    "        print(f\"Iteration: {iter} is completed!\")\n",
    "    return new_mean, new_size,label_arr"
   ]
  },
  {
   "cell_type": "code",
   "execution_count": 63,
   "metadata": {
    "scrolled": false
   },
   "outputs": [
    {
     "name": "stdout",
     "output_type": "stream",
     "text": [
      "[125, 125, 125, 125]\n",
      "125\n",
      "125\n",
      "125\n",
      "125\n",
      "Iteration: 0 is completed!\n",
      "125\n",
      "125\n",
      "125\n",
      "125\n",
      "Iteration: 1 is completed!\n",
      "125\n",
      "125\n",
      "125\n",
      "125\n",
      "Iteration: 2 is completed!\n",
      "125\n",
      "125\n",
      "125\n",
      "125\n",
      "Iteration: 3 is completed!\n",
      "125\n",
      "125\n",
      "125\n",
      "125\n",
      "Iteration: 4 is completed!\n",
      "125\n",
      "125\n",
      "125\n",
      "125\n",
      "Iteration: 5 is completed!\n",
      "125\n",
      "125\n",
      "125\n",
      "125\n",
      "Iteration: 6 is completed!\n",
      "125\n",
      "125\n",
      "125\n",
      "125\n",
      "Iteration: 7 is completed!\n",
      "125\n",
      "125\n",
      "125\n",
      "125\n",
      "Iteration: 8 is completed!\n",
      "125\n",
      "125\n",
      "125\n",
      "125\n",
      "Iteration: 9 is completed!\n",
      "125\n",
      "125\n",
      "125\n",
      "125\n",
      "Iteration: 10 is completed!\n",
      "125\n",
      "125\n",
      "125\n",
      "125\n",
      "Iteration: 11 is completed!\n",
      "125\n",
      "125\n",
      "125\n",
      "125\n",
      "Iteration: 12 is completed!\n",
      "125\n",
      "125\n",
      "125\n",
      "125\n",
      "Iteration: 13 is completed!\n",
      "125\n",
      "125\n",
      "125\n",
      "125\n",
      "Iteration: 14 is completed!\n",
      "125\n",
      "125\n",
      "125\n",
      "125\n",
      "Iteration: 15 is completed!\n",
      "125\n",
      "125\n",
      "125\n",
      "125\n",
      "Iteration: 16 is completed!\n",
      "125\n",
      "125\n",
      "125\n",
      "125\n",
      "Iteration: 17 is completed!\n",
      "125\n",
      "125\n",
      "125\n",
      "125\n",
      "Iteration: 18 is completed!\n",
      "125\n",
      "125\n",
      "125\n",
      "125\n",
      "Iteration: 19 is completed!\n",
      "125\n",
      "125\n",
      "125\n",
      "125\n",
      "Iteration: 20 is completed!\n",
      "125\n",
      "125\n",
      "125\n",
      "125\n",
      "Iteration: 21 is completed!\n",
      "125\n",
      "125\n",
      "125\n",
      "125\n",
      "Iteration: 22 is completed!\n",
      "125\n",
      "125\n",
      "125\n",
      "125\n",
      "Iteration: 23 is completed!\n",
      "125\n",
      "125\n",
      "125\n",
      "125\n",
      "Iteration: 24 is completed!\n",
      "125\n",
      "125\n",
      "125\n",
      "125\n",
      "Iteration: 25 is completed!\n",
      "125\n",
      "125\n",
      "125\n",
      "125\n",
      "Iteration: 26 is completed!\n",
      "125\n",
      "125\n",
      "125\n",
      "125\n",
      "Iteration: 27 is completed!\n",
      "125\n",
      "125\n",
      "125\n",
      "125\n",
      "Iteration: 28 is completed!\n",
      "125\n",
      "125\n",
      "125\n",
      "125\n",
      "Iteration: 29 is completed!\n"
     ]
    }
   ],
   "source": [
    "mean_cent, size_cent,label_arr = SphericalKMeans(X, y, 30)"
   ]
  },
  {
   "cell_type": "code",
   "execution_count": null,
   "metadata": {},
   "outputs": [],
   "source": []
  },
  {
   "cell_type": "code",
   "execution_count": 52,
   "metadata": {},
   "outputs": [
    {
     "name": "stdout",
     "output_type": "stream",
     "text": [
      "(4, 11)\n",
      "[0.25 0.25 0.25 0.25]\n"
     ]
    }
   ],
   "source": [
    "mean_cent = np.array(mean_cent)\n",
    "print(mean_cent.shape)\n",
    "print(size_cent/np.sum(size_cent))"
   ]
  },
  {
   "cell_type": "code",
   "execution_count": 53,
   "metadata": {
    "scrolled": true
   },
   "outputs": [
    {
     "data": {
      "image/png": "[encoded data removed]",
      "text/plain": [
       "<Figure size 432x288 with 1 Axes>"
      ]
     },
     "metadata": {
      "needs_background": "light"
     },
     "output_type": "display_data"
    }
   ],
   "source": [
    "from sklearn.cluster import SpectralClustering\n",
    "import warnings\n",
    "warnings.simplefilter(\"ignore\")\n",
    "\n",
    "model = SpectralClustering(n_clusters=4, affinity='nearest_neighbors',\n",
    "                           assign_labels='kmeans')\n",
    "labels = model.fit_predict(X)\n",
    "plt.scatter(X[:, 0], X[:, 1], c=labels,s=50, cmap='viridis');"
   ]
  },
  {
   "cell_type": "code",
   "execution_count": 54,
   "metadata": {},
   "outputs": [
    {
     "data": {
      "text/plain": [
       "array([2, 2, 0, 2, 1, 1, 3, 0, 1, 1, 0, 1, 2, 0, 2, 0, 0, 3, 2, 2, 3, 1,\n",
       "       3, 1, 2, 0, 1, 0, 3, 1, 1, 1, 0, 1, 2, 3, 1, 0, 2, 3, 1, 2, 2, 2,\n",
       "       1, 1, 0, 2, 1, 3, 2, 1, 2, 0, 2, 1, 1, 3, 2, 2, 3, 1, 3, 0, 0, 2,\n",
       "       0, 2, 0, 3, 3, 3, 3, 1, 3, 0, 1, 3, 3, 1, 0, 0, 3, 3, 1, 3, 3, 0,\n",
       "       3, 2, 3, 0, 1, 1, 3, 1, 1, 0, 0, 2, 0, 0, 3, 0, 1, 2, 1, 3, 3, 3,\n",
       "       3, 1, 1, 2, 2, 1, 2, 2, 2, 3, 1, 3, 2, 3, 1, 0, 1, 1, 3, 2, 2, 0,\n",
       "       1, 1, 0, 1, 2, 2, 3, 1, 3, 1, 3, 1, 0, 0, 1, 0, 3, 1, 1, 1, 0, 2,\n",
       "       2, 1, 0, 0, 2, 0, 3, 0, 1, 3, 3, 2, 3, 1, 0, 0, 3, 2, 2, 2, 3, 3,\n",
       "       1, 2, 3, 3, 0, 2, 0, 3, 2, 2, 0, 3, 0, 2, 3, 3, 1, 0, 3, 1, 0, 0,\n",
       "       3, 0, 2, 1, 0, 1, 3, 1, 3, 3, 0, 2, 3, 2, 1, 1, 0, 3, 3, 3, 3, 3,\n",
       "       0, 0, 3, 0, 1, 2, 0, 1, 2, 2, 1, 3, 0, 2, 3, 3, 3, 0, 0, 1, 0, 3,\n",
       "       2, 0, 0, 2, 3, 1, 3, 3, 1, 1, 1, 0, 1, 1, 0, 1, 0, 2, 2, 1, 2, 1,\n",
       "       2, 0, 0, 1, 0, 2, 3, 2, 2, 1, 1, 2, 2, 1, 1, 1, 1, 1, 1, 3, 1, 3,\n",
       "       3, 3, 3, 2, 3, 3, 1, 0, 2, 2, 0, 1, 3, 3, 2, 1, 1, 0, 3, 1, 0, 0,\n",
       "       0, 1, 1, 2, 1, 3, 3, 0, 0, 1, 3, 0, 3, 2, 2, 1, 2, 3, 3, 2, 0, 1,\n",
       "       0, 1, 1, 1, 0, 3, 1, 0, 2, 1, 0, 1, 1, 3, 2, 0, 1, 1, 1, 2, 2, 3,\n",
       "       1, 0, 2, 0, 1, 3, 3, 2, 0, 1, 2, 0, 2, 1, 1, 1, 3, 1, 0, 0, 2, 2,\n",
       "       2, 2, 1, 2, 3, 3, 1, 2, 3, 2, 3, 3, 0, 0, 2, 2, 2, 2, 0, 0, 2, 2,\n",
       "       3, 1, 0, 0, 0, 0, 0, 0, 2, 2, 3, 3, 3, 0, 0, 0, 1, 2, 2, 3, 0, 3,\n",
       "       2, 3, 1, 1, 1, 0, 0, 3, 3, 0, 2, 0, 0, 2, 3, 3, 2, 2, 3, 2, 3, 0,\n",
       "       0, 2, 2, 2, 2, 1, 0, 0, 1, 1, 1, 2, 0, 0, 2, 0, 0, 1, 0, 0, 2, 0,\n",
       "       3, 3, 0, 0, 3, 2, 2, 3, 2, 3, 1, 0, 3, 3, 2, 3, 0, 3, 2, 3, 3, 1,\n",
       "       2, 2, 0, 2, 0, 2, 2, 2, 2, 3, 0, 1, 3, 2, 0, 2])"
      ]
     },
     "execution_count": 54,
     "metadata": {},
     "output_type": "execute_result"
    }
   ],
   "source": [
    "labels"
   ]
  },
  {
   "cell_type": "code",
   "execution_count": 56,
   "metadata": {},
   "outputs": [],
   "source": [
    "from sklearn.metrics import classification_report,confusion_matrix,accuracy_score,f1_score,plot_confusion_matrix"
   ]
  },
  {
   "cell_type": "code",
   "execution_count": 58,
   "metadata": {
    "scrolled": true
   },
   "outputs": [
    {
     "name": "stdout",
     "output_type": "stream",
     "text": [
      "[[  0   0 125   0]\n",
      " [  0 125   0   0]\n",
      " [125   0   0   0]\n",
      " [  0   0   0 125]]\n"
     ]
    }
   ],
   "source": [
    "print(confusion_matrix(y,labels))"
   ]
  },
  {
   "cell_type": "code",
   "execution_count": 60,
   "metadata": {},
   "outputs": [
    {
     "name": "stdout",
     "output_type": "stream",
     "text": [
      "              precision    recall  f1-score   support\n",
      "\n",
      "           0       0.00      0.00      0.00       125\n",
      "           1       1.00      1.00      1.00       125\n",
      "           2       0.00      0.00      0.00       125\n",
      "           3       1.00      1.00      1.00       125\n",
      "\n",
      "    accuracy                           0.50       500\n",
      "   macro avg       0.50      0.50      0.50       500\n",
      "weighted avg       0.50      0.50      0.50       500\n",
      "\n"
     ]
    }
   ],
   "source": [
    "print(classification_report(y,labels))"
   ]
  }
 ],
 "metadata": {
  "kernelspec": {
   "display_name": "Python 3",
   "language": "python",
   "name": "python3"
  },
  "language_info": {
   "codemirror_mode": {
    "name": "ipython",
    "version": 3
   },
   "file_extension": ".py",
   "mimetype": "text/x-python",
   "name": "python",
   "nbconvert_exporter": "python",
   "pygments_lexer": "ipython3",
   "version": "3.7.4"
  }
 },
 "nbformat": 4,
 "nbformat_minor": 2
}
